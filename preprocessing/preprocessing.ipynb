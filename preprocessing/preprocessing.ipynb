{
 "cells": [
  {
   "cell_type": "code",
   "execution_count": 11,
   "metadata": {},
   "outputs": [],
   "source": [
    "import pandas as pd\n",
    "import numpy as np\n",
    "import matplotlib.pyplot as plt"
   ]
  },
  {
   "cell_type": "code",
   "execution_count": 12,
   "metadata": {},
   "outputs": [],
   "source": [
    "df = pd.read_csv('/Users/hetavpatel/Desktop/Data Science/Grad DS Work/DSCI 601 Applied Data Science/old_repos/NLPPunePorsche/eda/final_youtube_comments.csv')"
   ]
  },
  {
   "cell_type": "code",
   "execution_count": 13,
   "metadata": {},
   "outputs": [
    {
     "data": {
      "text/html": [
       "<div>\n",
       "<style scoped>\n",
       "    .dataframe tbody tr th:only-of-type {\n",
       "        vertical-align: middle;\n",
       "    }\n",
       "\n",
       "    .dataframe tbody tr th {\n",
       "        vertical-align: top;\n",
       "    }\n",
       "\n",
       "    .dataframe thead th {\n",
       "        text-align: right;\n",
       "    }\n",
       "</style>\n",
       "<table border=\"1\" class=\"dataframe\">\n",
       "  <thead>\n",
       "    <tr style=\"text-align: right;\">\n",
       "      <th></th>\n",
       "      <th>Unnamed: 0</th>\n",
       "      <th>etag</th>\n",
       "      <th>id</th>\n",
       "      <th>channelId</th>\n",
       "      <th>videoId</th>\n",
       "      <th>topLevelComment_etag</th>\n",
       "      <th>topLevelComment_id</th>\n",
       "      <th>textOriginal</th>\n",
       "      <th>authorDisplayName</th>\n",
       "      <th>authorProfileImageUrl</th>\n",
       "      <th>authorChannelUrl</th>\n",
       "      <th>authorChannelId</th>\n",
       "      <th>likeCount</th>\n",
       "      <th>publishedAt</th>\n",
       "      <th>updatedAt</th>\n",
       "      <th>totalReplyCount</th>\n",
       "    </tr>\n",
       "  </thead>\n",
       "  <tbody>\n",
       "    <tr>\n",
       "      <th>0</th>\n",
       "      <td>0</td>\n",
       "      <td>kcxAtzIk1aVtPuNlqSLbRUKbfxk</td>\n",
       "      <td>UgxHddIqyh0yjsul8Td4AaABAg</td>\n",
       "      <td>UCvnz1C-qT-bELjy-a3GJoXQ</td>\n",
       "      <td>Uxzg6P-6Qjs</td>\n",
       "      <td>TTaUWEKk7VJ5CbT-CDv4lLF18fI</td>\n",
       "      <td>UgxHddIqyh0yjsul8Td4AaABAg</td>\n",
       "      <td>Talented log mar gye or useless ladka bach gya 😢</td>\n",
       "      <td>@GopalConnect</td>\n",
       "      <td>https://yt3.ggpht.com/GrCMzOj7Kk52CleX5Gnw-4GB...</td>\n",
       "      <td>http://www.youtube.com/@GopalConnect</td>\n",
       "      <td>UCHzm55kaUMifgOf5bSjiohA</td>\n",
       "      <td>0</td>\n",
       "      <td>2024-05-23 05:08:53+00:00</td>\n",
       "      <td>2024-05-23T05:08:53Z</td>\n",
       "      <td>0</td>\n",
       "    </tr>\n",
       "    <tr>\n",
       "      <th>1</th>\n",
       "      <td>1</td>\n",
       "      <td>0Io30QI_wl3G9TiMRehHI67_py8</td>\n",
       "      <td>UgyXc3KpEOAUlkmt2_t4AaABAg</td>\n",
       "      <td>UCgKgAaGbKS-XWUJGWqP5W0A</td>\n",
       "      <td>90HPIE7xbkk</td>\n",
       "      <td>rxOzyf4i1G-kbkhlkRnDlLVdJQI</td>\n",
       "      <td>UgyXc3KpEOAUlkmt2_t4AaABAg</td>\n",
       "      <td>what are the updates in pune porsche case? did...</td>\n",
       "      <td>@bababillenial7861</td>\n",
       "      <td>https://yt3.ggpht.com/ytc/AIdro_mEiWFqXVHUIVUi...</td>\n",
       "      <td>http://www.youtube.com/@bababillenial7861</td>\n",
       "      <td>UCKg-I4C07Iu0zVJoA91FK9w</td>\n",
       "      <td>0</td>\n",
       "      <td>2024-06-25 03:40:33+00:00</td>\n",
       "      <td>2024-06-25T03:40:33Z</td>\n",
       "      <td>0</td>\n",
       "    </tr>\n",
       "    <tr>\n",
       "      <th>2</th>\n",
       "      <td>2</td>\n",
       "      <td>63WlAiuKV0xuDtdhCcWrV1wwYzg</td>\n",
       "      <td>Ugyw8L59M6ihi0eP5Xd4AaABAg</td>\n",
       "      <td>UC-CSyyi47VX1lD9zyeABW3w</td>\n",
       "      <td>2XvzIl2azGg</td>\n",
       "      <td>7a0d3eiAbSfXYcaCay_KqUY3Pdg</td>\n",
       "      <td>Ugyw8L59M6ihi0eP5Xd4AaABAg</td>\n",
       "      <td>❤❤❤❤</td>\n",
       "      <td>@AkramMakraha</td>\n",
       "      <td>https://yt3.ggpht.com/ytc/AIdro_nLOZiVoOnOY9sR...</td>\n",
       "      <td>http://www.youtube.com/@AkramMakraha</td>\n",
       "      <td>UCxI2IZ3dZ8TPsR3Tnkf2n3w</td>\n",
       "      <td>1</td>\n",
       "      <td>2025-01-13 11:41:12+00:00</td>\n",
       "      <td>2025-01-13T11:41:12Z</td>\n",
       "      <td>0</td>\n",
       "    </tr>\n",
       "    <tr>\n",
       "      <th>3</th>\n",
       "      <td>3</td>\n",
       "      <td>_qrPdBPxW--2zn1gF32yQzfDPiM</td>\n",
       "      <td>UgyFc72W7wVSo1sfGSZ4AaABAg</td>\n",
       "      <td>UC-CSyyi47VX1lD9zyeABW3w</td>\n",
       "      <td>2XvzIl2azGg</td>\n",
       "      <td>_cZqdvLfar4mNmS60djLqt91-lg</td>\n",
       "      <td>UgyFc72W7wVSo1sfGSZ4AaABAg</td>\n",
       "      <td>Dhruv Rathi</td>\n",
       "      <td>@Rishabh-8</td>\n",
       "      <td>https://yt3.ggpht.com/d2naXpFZ5S-ThKTOhLI9YwaX...</td>\n",
       "      <td>http://www.youtube.com/@Rishabh-8</td>\n",
       "      <td>UCeZzoK5IA9miqtkFxRjBD7A</td>\n",
       "      <td>0</td>\n",
       "      <td>2025-01-13 11:41:12+00:00</td>\n",
       "      <td>2025-01-13T11:41:12Z</td>\n",
       "      <td>0</td>\n",
       "    </tr>\n",
       "    <tr>\n",
       "      <th>4</th>\n",
       "      <td>4</td>\n",
       "      <td>vdfqsMvgs2jKoeqZxK-sGg6L8mk</td>\n",
       "      <td>UgyUIJPkHnRR2hGbuTN4AaABAg</td>\n",
       "      <td>UC-CSyyi47VX1lD9zyeABW3w</td>\n",
       "      <td>2XvzIl2azGg</td>\n",
       "      <td>el9VrGJ4ovErSw5PY0C6PgdwbhQ</td>\n",
       "      <td>UgyUIJPkHnRR2hGbuTN4AaABAg</td>\n",
       "      <td>Love you❤sir</td>\n",
       "      <td>@HussainAhmed-o7l</td>\n",
       "      <td>https://yt3.ggpht.com/jh1thVmrKgXUv_8pPqCYPZQF...</td>\n",
       "      <td>http://www.youtube.com/@HussainAhmed-o7l</td>\n",
       "      <td>UCHsCZ4DibrUHocNbQMcgjag</td>\n",
       "      <td>1</td>\n",
       "      <td>2025-01-13 11:41:12+00:00</td>\n",
       "      <td>2025-01-13T11:41:12Z</td>\n",
       "      <td>0</td>\n",
       "    </tr>\n",
       "  </tbody>\n",
       "</table>\n",
       "</div>"
      ],
      "text/plain": [
       "   Unnamed: 0                         etag                          id  \\\n",
       "0           0  kcxAtzIk1aVtPuNlqSLbRUKbfxk  UgxHddIqyh0yjsul8Td4AaABAg   \n",
       "1           1  0Io30QI_wl3G9TiMRehHI67_py8  UgyXc3KpEOAUlkmt2_t4AaABAg   \n",
       "2           2  63WlAiuKV0xuDtdhCcWrV1wwYzg  Ugyw8L59M6ihi0eP5Xd4AaABAg   \n",
       "3           3  _qrPdBPxW--2zn1gF32yQzfDPiM  UgyFc72W7wVSo1sfGSZ4AaABAg   \n",
       "4           4  vdfqsMvgs2jKoeqZxK-sGg6L8mk  UgyUIJPkHnRR2hGbuTN4AaABAg   \n",
       "\n",
       "                  channelId      videoId         topLevelComment_etag  \\\n",
       "0  UCvnz1C-qT-bELjy-a3GJoXQ  Uxzg6P-6Qjs  TTaUWEKk7VJ5CbT-CDv4lLF18fI   \n",
       "1  UCgKgAaGbKS-XWUJGWqP5W0A  90HPIE7xbkk  rxOzyf4i1G-kbkhlkRnDlLVdJQI   \n",
       "2  UC-CSyyi47VX1lD9zyeABW3w  2XvzIl2azGg  7a0d3eiAbSfXYcaCay_KqUY3Pdg   \n",
       "3  UC-CSyyi47VX1lD9zyeABW3w  2XvzIl2azGg  _cZqdvLfar4mNmS60djLqt91-lg   \n",
       "4  UC-CSyyi47VX1lD9zyeABW3w  2XvzIl2azGg  el9VrGJ4ovErSw5PY0C6PgdwbhQ   \n",
       "\n",
       "           topLevelComment_id  \\\n",
       "0  UgxHddIqyh0yjsul8Td4AaABAg   \n",
       "1  UgyXc3KpEOAUlkmt2_t4AaABAg   \n",
       "2  Ugyw8L59M6ihi0eP5Xd4AaABAg   \n",
       "3  UgyFc72W7wVSo1sfGSZ4AaABAg   \n",
       "4  UgyUIJPkHnRR2hGbuTN4AaABAg   \n",
       "\n",
       "                                        textOriginal   authorDisplayName  \\\n",
       "0   Talented log mar gye or useless ladka bach gya 😢       @GopalConnect   \n",
       "1  what are the updates in pune porsche case? did...  @bababillenial7861   \n",
       "2                                               ❤❤❤❤       @AkramMakraha   \n",
       "3                                        Dhruv Rathi          @Rishabh-8   \n",
       "4                                       Love you❤sir   @HussainAhmed-o7l   \n",
       "\n",
       "                               authorProfileImageUrl  \\\n",
       "0  https://yt3.ggpht.com/GrCMzOj7Kk52CleX5Gnw-4GB...   \n",
       "1  https://yt3.ggpht.com/ytc/AIdro_mEiWFqXVHUIVUi...   \n",
       "2  https://yt3.ggpht.com/ytc/AIdro_nLOZiVoOnOY9sR...   \n",
       "3  https://yt3.ggpht.com/d2naXpFZ5S-ThKTOhLI9YwaX...   \n",
       "4  https://yt3.ggpht.com/jh1thVmrKgXUv_8pPqCYPZQF...   \n",
       "\n",
       "                            authorChannelUrl           authorChannelId  \\\n",
       "0       http://www.youtube.com/@GopalConnect  UCHzm55kaUMifgOf5bSjiohA   \n",
       "1  http://www.youtube.com/@bababillenial7861  UCKg-I4C07Iu0zVJoA91FK9w   \n",
       "2       http://www.youtube.com/@AkramMakraha  UCxI2IZ3dZ8TPsR3Tnkf2n3w   \n",
       "3          http://www.youtube.com/@Rishabh-8  UCeZzoK5IA9miqtkFxRjBD7A   \n",
       "4   http://www.youtube.com/@HussainAhmed-o7l  UCHsCZ4DibrUHocNbQMcgjag   \n",
       "\n",
       "   likeCount                publishedAt             updatedAt  totalReplyCount  \n",
       "0          0  2024-05-23 05:08:53+00:00  2024-05-23T05:08:53Z                0  \n",
       "1          0  2024-06-25 03:40:33+00:00  2024-06-25T03:40:33Z                0  \n",
       "2          1  2025-01-13 11:41:12+00:00  2025-01-13T11:41:12Z                0  \n",
       "3          0  2025-01-13 11:41:12+00:00  2025-01-13T11:41:12Z                0  \n",
       "4          1  2025-01-13 11:41:12+00:00  2025-01-13T11:41:12Z                0  "
      ]
     },
     "execution_count": 13,
     "metadata": {},
     "output_type": "execute_result"
    }
   ],
   "source": [
    "df.head()"
   ]
  },
  {
   "cell_type": "code",
   "execution_count": 14,
   "metadata": {},
   "outputs": [
    {
     "name": "stdout",
     "output_type": "stream",
     "text": [
      "<class 'pandas.core.frame.DataFrame'>\n",
      "RangeIndex: 153559 entries, 0 to 153558\n",
      "Data columns (total 16 columns):\n",
      " #   Column                 Non-Null Count   Dtype \n",
      "---  ------                 --------------   ----- \n",
      " 0   Unnamed: 0             153559 non-null  int64 \n",
      " 1   etag                   153559 non-null  object\n",
      " 2   id                     153559 non-null  object\n",
      " 3   channelId              153559 non-null  object\n",
      " 4   videoId                153559 non-null  object\n",
      " 5   topLevelComment_etag   153559 non-null  object\n",
      " 6   topLevelComment_id     153559 non-null  object\n",
      " 7   textOriginal           153539 non-null  object\n",
      " 8   authorDisplayName      153545 non-null  object\n",
      " 9   authorProfileImageUrl  153559 non-null  object\n",
      " 10  authorChannelUrl       153559 non-null  object\n",
      " 11  authorChannelId        153559 non-null  object\n",
      " 12  likeCount              153559 non-null  int64 \n",
      " 13  publishedAt            153559 non-null  object\n",
      " 14  updatedAt              153559 non-null  object\n",
      " 15  totalReplyCount        153559 non-null  int64 \n",
      "dtypes: int64(3), object(13)\n",
      "memory usage: 18.7+ MB\n"
     ]
    }
   ],
   "source": [
    "df.info()"
   ]
  },
  {
   "cell_type": "code",
   "execution_count": 15,
   "metadata": {},
   "outputs": [],
   "source": [
    "#remove unnecessary columns\n",
    "df = df.drop(['Unnamed: 0'], axis=1)"
   ]
  },
  {
   "cell_type": "code",
   "execution_count": 16,
   "metadata": {},
   "outputs": [
    {
     "name": "stdout",
     "output_type": "stream",
     "text": [
      "Requirement already satisfied: fasttext in /Users/hetavpatel/anaconda3/lib/python3.12/site-packages (0.9.3)\n",
      "Requirement already satisfied: pybind11>=2.2 in /Users/hetavpatel/anaconda3/lib/python3.12/site-packages (from fasttext) (2.13.6)\n",
      "Requirement already satisfied: setuptools>=0.7.0 in /Users/hetavpatel/anaconda3/lib/python3.12/site-packages (from fasttext) (75.1.0)\n",
      "Requirement already satisfied: numpy in /Users/hetavpatel/anaconda3/lib/python3.12/site-packages (from fasttext) (1.26.4)\n",
      "Requirement already satisfied: gensim in /Users/hetavpatel/anaconda3/lib/python3.12/site-packages (4.3.3)\n",
      "Requirement already satisfied: numpy<2.0,>=1.18.5 in /Users/hetavpatel/anaconda3/lib/python3.12/site-packages (from gensim) (1.26.4)\n",
      "Requirement already satisfied: scipy<1.14.0,>=1.7.0 in /Users/hetavpatel/anaconda3/lib/python3.12/site-packages (from gensim) (1.13.1)\n",
      "Requirement already satisfied: smart-open>=1.8.1 in /Users/hetavpatel/anaconda3/lib/python3.12/site-packages (from gensim) (5.2.1)\n",
      "Requirement already satisfied: google_trans_new in /Users/hetavpatel/anaconda3/lib/python3.12/site-packages (1.1.9)\n",
      "Requirement already satisfied: langdetect in /Users/hetavpatel/anaconda3/lib/python3.12/site-packages (1.0.9)\n",
      "Requirement already satisfied: six in /Users/hetavpatel/anaconda3/lib/python3.12/site-packages (from langdetect) (1.16.0)\n"
     ]
    }
   ],
   "source": [
    "!pip install fasttext\n",
    "!pip install gensim\n",
    "!pip install google_trans_new\n",
    "!pip install langdetect"
   ]
  },
  {
   "cell_type": "markdown",
   "metadata": {},
   "source": [
    "First Intuition is to convert the data to English and work on it."
   ]
  },
  {
   "cell_type": "code",
   "execution_count": 17,
   "metadata": {},
   "outputs": [
    {
     "ename": "ModuleNotFoundError",
     "evalue": "No module named 'langdetect'",
     "output_type": "error",
     "traceback": [
      "\u001b[0;31m---------------------------------------------------------------------------\u001b[0m",
      "\u001b[0;31mModuleNotFoundError\u001b[0m                       Traceback (most recent call last)",
      "Cell \u001b[0;32mIn[17], line 1\u001b[0m\n\u001b[0;32m----> 1\u001b[0m \u001b[38;5;28;01mimport\u001b[39;00m \u001b[38;5;21;01mlangdetect\u001b[39;00m\n\u001b[1;32m      2\u001b[0m \u001b[38;5;28;01mimport\u001b[39;00m \u001b[38;5;21;01mgoogle_trans_new\u001b[39;00m\n\u001b[1;32m      3\u001b[0m \u001b[38;5;28;01mfrom\u001b[39;00m \u001b[38;5;21;01mlangdetect\u001b[39;00m \u001b[38;5;28;01mimport\u001b[39;00m detect\n",
      "\u001b[0;31mModuleNotFoundError\u001b[0m: No module named 'langdetect'"
     ]
    }
   ],
   "source": [
    "import langdetect\n",
    "import google_trans_new\n",
    "from langdetect import detect\n",
    "from google_trans_new import google_translator \n",
    "\n",
    "#write a function to detect language of the comments and then translate them to english and then apply the function the comments column  and create a new column\n",
    "\n",
    "def detect_lang(comment):\n",
    "    try:\n",
    "        return detect(comment)\n",
    "    except:\n",
    "        return 'unknown'\n",
    "\n",
    "def translate_to_english(comment):\n",
    "    translator = google_translator()\n",
    "    return translator.translate(comment, lang_tgt='en')\n",
    "\n",
    "df['lang'] = df['textOriginal'].apply(detect_lang)"
   ]
  },
  {
   "cell_type": "code",
   "execution_count": null,
   "metadata": {},
   "outputs": [],
   "source": []
  },
  {
   "cell_type": "code",
   "execution_count": null,
   "metadata": {},
   "outputs": [],
   "source": []
  },
  {
   "cell_type": "code",
   "execution_count": null,
   "metadata": {},
   "outputs": [],
   "source": []
  },
  {
   "cell_type": "code",
   "execution_count": null,
   "metadata": {},
   "outputs": [],
   "source": []
  }
 ],
 "metadata": {
  "kernelspec": {
   "display_name": "Python 3",
   "language": "python",
   "name": "python3"
  },
  "language_info": {
   "codemirror_mode": {
    "name": "ipython",
    "version": 3
   },
   "file_extension": ".py",
   "mimetype": "text/x-python",
   "name": "python",
   "nbconvert_exporter": "python",
   "pygments_lexer": "ipython3",
   "version": "3.13.0"
  }
 },
 "nbformat": 4,
 "nbformat_minor": 2
}
