{
 "cells": [
  {
   "cell_type": "code",
   "execution_count": 1,
   "id": "1fa8a976",
   "metadata": {},
   "outputs": [],
   "source": [
    "import pandas as pd"
   ]
  },
  {
   "cell_type": "code",
   "execution_count": 2,
   "id": "293bc7e6",
   "metadata": {},
   "outputs": [],
   "source": [
    "import json"
   ]
  },
  {
   "cell_type": "code",
   "execution_count": 7,
   "id": "152b5d7f",
   "metadata": {},
   "outputs": [],
   "source": [
    "df = pd.read_csv('/home/sd3528/hetav-2/data/youtube_comments_unlabeld_english.csv')"
   ]
  },
  {
   "cell_type": "code",
   "execution_count": 8,
   "id": "94c79e83",
   "metadata": {},
   "outputs": [],
   "source": [
    "total_texts = df['textOriginal'].tolist()"
   ]
  },
  {
   "cell_type": "code",
   "execution_count": 9,
   "id": "35c19913",
   "metadata": {},
   "outputs": [
    {
     "data": {
      "text/plain": [
       "93627"
      ]
     },
     "execution_count": 9,
     "metadata": {},
     "output_type": "execute_result"
    }
   ],
   "source": [
    "len(total_texts)"
   ]
  },
  {
   "cell_type": "code",
   "execution_count": 10,
   "id": "f28af980",
   "metadata": {},
   "outputs": [],
   "source": [
    "df_labelled = pd.read_csv('/home/sd3528/hetav-2/data/2700_comments_final_labeled.csv')"
   ]
  },
  {
   "cell_type": "code",
   "execution_count": 11,
   "id": "5ad1d7ad",
   "metadata": {},
   "outputs": [],
   "source": [
    "texts_labelled = df_labelled['text'].tolist()"
   ]
  },
  {
   "cell_type": "code",
   "execution_count": 12,
   "id": "bf23ea81",
   "metadata": {},
   "outputs": [
    {
     "data": {
      "text/plain": [
       "2707"
      ]
     },
     "execution_count": 12,
     "metadata": {},
     "output_type": "execute_result"
    }
   ],
   "source": [
    "len(texts_labelled)"
   ]
  },
  {
   "cell_type": "code",
   "execution_count": 13,
   "id": "0bc7b007",
   "metadata": {},
   "outputs": [
    {
     "data": {
      "text/plain": [
       "(2648, 85455)"
      ]
     },
     "execution_count": 13,
     "metadata": {},
     "output_type": "execute_result"
    }
   ],
   "source": [
    "set_texts_labelled = set(texts_labelled)\n",
    "set_total_texts = set(total_texts)\n",
    "\n",
    "len(set_texts_labelled), len(set_total_texts)"
   ]
  },
  {
   "cell_type": "code",
   "execution_count": 14,
   "id": "2dda08a9",
   "metadata": {},
   "outputs": [],
   "source": [
    "set_not_labelled = set_total_texts - set_texts_labelled"
   ]
  },
  {
   "cell_type": "code",
   "execution_count": 15,
   "id": "19d60a93",
   "metadata": {},
   "outputs": [
    {
     "data": {
      "text/plain": [
       "83225"
      ]
     },
     "execution_count": 15,
     "metadata": {},
     "output_type": "execute_result"
    }
   ],
   "source": [
    "len(set_not_labelled)"
   ]
  },
  {
   "cell_type": "code",
   "execution_count": 16,
   "id": "c45cfccc",
   "metadata": {},
   "outputs": [
    {
     "data": {
      "text/html": [
       "<div>\n",
       "<style scoped>\n",
       "    .dataframe tbody tr th:only-of-type {\n",
       "        vertical-align: middle;\n",
       "    }\n",
       "\n",
       "    .dataframe tbody tr th {\n",
       "        vertical-align: top;\n",
       "    }\n",
       "\n",
       "    .dataframe thead th {\n",
       "        text-align: right;\n",
       "    }\n",
       "</style>\n",
       "<table border=\"1\" class=\"dataframe\">\n",
       "  <thead>\n",
       "    <tr style=\"text-align: right;\">\n",
       "      <th></th>\n",
       "      <th>text</th>\n",
       "    </tr>\n",
       "  </thead>\n",
       "  <tbody>\n",
       "    <tr>\n",
       "      <th>0</th>\n",
       "      <td>The Deshbhakth Subscribers attend here :backha...</td>\n",
       "    </tr>\n",
       "    <tr>\n",
       "      <th>1</th>\n",
       "      <td>Pure banana republic :banana::banana::banana::...</td>\n",
       "    </tr>\n",
       "    <tr>\n",
       "      <th>2</th>\n",
       "      <td>Vote for make video on Osho Rajneesh!:crying_f...</td>\n",
       "    </tr>\n",
       "    <tr>\n",
       "      <th>3</th>\n",
       "      <td>Hamre beech me ak aur अम्बेडकर :red_heart::red...</td>\n",
       "    </tr>\n",
       "    <tr>\n",
       "      <th>4</th>\n",
       "      <td>I am Proud of you Dhruv Bhai aap jesa shar ab ...</td>\n",
       "    </tr>\n",
       "    <tr>\n",
       "      <th>...</th>\n",
       "      <td>...</td>\n",
       "    </tr>\n",
       "    <tr>\n",
       "      <th>83220</th>\n",
       "      <td>हम जैसे हिन्दी फिल्मो मै देख्ते है ना बराबर वै...</td>\n",
       "    </tr>\n",
       "    <tr>\n",
       "      <th>83221</th>\n",
       "      <td>Bhai Indian railways pe bhi video bana do, kab...</td>\n",
       "    </tr>\n",
       "    <tr>\n",
       "      <th>83222</th>\n",
       "      <td>Power of money :crying_face::crying_face:</td>\n",
       "    </tr>\n",
       "    <tr>\n",
       "      <th>83223</th>\n",
       "      <td>Ager Vedant Bach bhi to bhi publick anger use ...</td>\n",
       "    </tr>\n",
       "    <tr>\n",
       "      <th>83224</th>\n",
       "      <td>Sabbash is topic pe fir se baat krne ke liye:p...</td>\n",
       "    </tr>\n",
       "  </tbody>\n",
       "</table>\n",
       "<p>83225 rows × 1 columns</p>\n",
       "</div>"
      ],
      "text/plain": [
       "                                                    text\n",
       "0      The Deshbhakth Subscribers attend here :backha...\n",
       "1      Pure banana republic :banana::banana::banana::...\n",
       "2      Vote for make video on Osho Rajneesh!:crying_f...\n",
       "3      Hamre beech me ak aur अम्बेडकर :red_heart::red...\n",
       "4      I am Proud of you Dhruv Bhai aap jesa shar ab ...\n",
       "...                                                  ...\n",
       "83220  हम जैसे हिन्दी फिल्मो मै देख्ते है ना बराबर वै...\n",
       "83221  Bhai Indian railways pe bhi video bana do, kab...\n",
       "83222          Power of money :crying_face::crying_face:\n",
       "83223  Ager Vedant Bach bhi to bhi publick anger use ...\n",
       "83224  Sabbash is topic pe fir se baat krne ke liye:p...\n",
       "\n",
       "[83225 rows x 1 columns]"
      ]
     },
     "execution_count": 16,
     "metadata": {},
     "output_type": "execute_result"
    }
   ],
   "source": [
    "list_not_labelled = list(set_not_labelled)\n",
    "df_not_labelled = pd.DataFrame(list_not_labelled, columns=['text'])\n",
    "df_not_labelled"
   ]
  },
  {
   "cell_type": "code",
   "execution_count": 17,
   "id": "7fea5219",
   "metadata": {},
   "outputs": [],
   "source": [
    "df_not_labelled.to_csv('/home/sd3528/hetav-2/data/in_the_wild.csv', index=False)"
   ]
  },
  {
   "cell_type": "code",
   "execution_count": null,
   "id": "4bd8a5f6",
   "metadata": {},
   "outputs": [],
   "source": []
  }
 ],
 "metadata": {
  "kernelspec": {
   "display_name": "tts",
   "language": "python",
   "name": "python3"
  },
  "language_info": {
   "codemirror_mode": {
    "name": "ipython",
    "version": 3
   },
   "file_extension": ".py",
   "mimetype": "text/x-python",
   "name": "python",
   "nbconvert_exporter": "python",
   "pygments_lexer": "ipython3",
   "version": "3.11.9"
  }
 },
 "nbformat": 4,
 "nbformat_minor": 5
}
