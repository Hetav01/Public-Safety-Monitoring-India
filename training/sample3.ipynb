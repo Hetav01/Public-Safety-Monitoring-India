{
 "cells": [
  {
   "cell_type": "code",
   "execution_count": 1,
   "id": "7c453d54",
   "metadata": {},
   "outputs": [],
   "source": [
    "import pandas as pd\n",
    "import json"
   ]
  },
  {
   "cell_type": "code",
   "execution_count": 2,
   "id": "bf3da7a1",
   "metadata": {},
   "outputs": [],
   "source": [
    "df_annotate_first = pd.read_csv('/home/sd3528/hetav-2/data/2700_comments_final_labeled.csv')"
   ]
  },
  {
   "cell_type": "code",
   "execution_count": 3,
   "id": "0c671076",
   "metadata": {},
   "outputs": [
    {
     "data": {
      "text/plain": [
       "label\n",
       "6    1065\n",
       "5     715\n",
       "7     266\n",
       "3     231\n",
       "1     231\n",
       "4     141\n",
       "2      58\n",
       "Name: count, dtype: int64"
      ]
     },
     "execution_count": 3,
     "metadata": {},
     "output_type": "execute_result"
    }
   ],
   "source": [
    "df_annotate_first['label'].value_counts()"
   ]
  },
  {
   "cell_type": "code",
   "execution_count": 4,
   "id": "12d111e4",
   "metadata": {},
   "outputs": [
    {
     "data": {
      "text/plain": [
       "label\n",
       "5    1065\n",
       "4     715\n",
       "6     266\n",
       "2     231\n",
       "0     231\n",
       "3     141\n",
       "1      58\n",
       "Name: count, dtype: int64"
      ]
     },
     "execution_count": 4,
     "metadata": {},
     "output_type": "execute_result"
    }
   ],
   "source": [
    "df_annotate_first['label'] = df_annotate_first['label'].apply(lambda x: int(x) - 1)\n",
    "df_annotate_first['label'].value_counts()"
   ]
  },
  {
   "cell_type": "code",
   "execution_count": 5,
   "id": "0763d0c3",
   "metadata": {},
   "outputs": [
    {
     "data": {
      "text/html": [
       "<div>\n",
       "<style scoped>\n",
       "    .dataframe tbody tr th:only-of-type {\n",
       "        vertical-align: middle;\n",
       "    }\n",
       "\n",
       "    .dataframe tbody tr th {\n",
       "        vertical-align: top;\n",
       "    }\n",
       "\n",
       "    .dataframe thead th {\n",
       "        text-align: right;\n",
       "    }\n",
       "</style>\n",
       "<table border=\"1\" class=\"dataframe\">\n",
       "  <thead>\n",
       "    <tr style=\"text-align: right;\">\n",
       "      <th></th>\n",
       "      <th>id</th>\n",
       "      <th>text</th>\n",
       "      <th>human_label</th>\n",
       "    </tr>\n",
       "  </thead>\n",
       "  <tbody>\n",
       "    <tr>\n",
       "      <th>0</th>\n",
       "      <td>0933ba35-b3ee-4dd3-8309-c4bd0d128666</td>\n",
       "      <td>Em clear ga cheppav :party_popper:nice :thumbs...</td>\n",
       "      <td>6</td>\n",
       "    </tr>\n",
       "    <tr>\n",
       "      <th>1</th>\n",
       "      <td>a75b4d0d-a089-478f-a615-432109ffafaa</td>\n",
       "      <td>Paisa is sab hai ... Our system is totally cor...</td>\n",
       "      <td>5</td>\n",
       "    </tr>\n",
       "    <tr>\n",
       "      <th>2</th>\n",
       "      <td>461c8dd7-449f-4789-a3a2-67a3efd72074</td>\n",
       "      <td>We want justice.....the value of their lives z...</td>\n",
       "      <td>4</td>\n",
       "    </tr>\n",
       "    <tr>\n",
       "      <th>3</th>\n",
       "      <td>267daf2c-7cde-4b0d-8688-b8fa1d0bed55</td>\n",
       "      <td>I lived in ahmednagar.. And i found that u nee...</td>\n",
       "      <td>2</td>\n",
       "    </tr>\n",
       "    <tr>\n",
       "      <th>4</th>\n",
       "      <td>67e905d8-2823-4241-b1fd-7b88e677a4a9</td>\n",
       "      <td>You always covered the news really well  ,comm...</td>\n",
       "      <td>6</td>\n",
       "    </tr>\n",
       "    <tr>\n",
       "      <th>...</th>\n",
       "      <td>...</td>\n",
       "      <td>...</td>\n",
       "      <td>...</td>\n",
       "    </tr>\n",
       "    <tr>\n",
       "      <th>695</th>\n",
       "      <td>bb3731f5-977b-43e8-9cc4-39c94e61c6a4</td>\n",
       "      <td>I am from Indore and I don’t hesitate to accep...</td>\n",
       "      <td>2</td>\n",
       "    </tr>\n",
       "    <tr>\n",
       "      <th>696</th>\n",
       "      <td>27694197-80f1-4cf4-8f9d-de4cc336f789</td>\n",
       "      <td>Indian judiciary system fucked up....I persona...</td>\n",
       "      <td>1</td>\n",
       "    </tr>\n",
       "    <tr>\n",
       "      <th>697</th>\n",
       "      <td>80f9e4ea-773d-46be-9779-6f9699b5b1d0</td>\n",
       "      <td>Money is everything in India. You have money a...</td>\n",
       "      <td>3</td>\n",
       "    </tr>\n",
       "    <tr>\n",
       "      <th>698</th>\n",
       "      <td>5bc925eb-3ebb-4081-ab1e-e7ba41937fb9</td>\n",
       "      <td>Nothing changed in 10 years .people are being ...</td>\n",
       "      <td>2</td>\n",
       "    </tr>\n",
       "    <tr>\n",
       "      <th>699</th>\n",
       "      <td>1f95a3ad-258f-4187-8791-cb1fbd12f5e2</td>\n",
       "      <td>Justice for both of them and my condolences om...</td>\n",
       "      <td>4</td>\n",
       "    </tr>\n",
       "  </tbody>\n",
       "</table>\n",
       "<p>700 rows × 3 columns</p>\n",
       "</div>"
      ],
      "text/plain": [
       "                                       id  \\\n",
       "0    0933ba35-b3ee-4dd3-8309-c4bd0d128666   \n",
       "1    a75b4d0d-a089-478f-a615-432109ffafaa   \n",
       "2    461c8dd7-449f-4789-a3a2-67a3efd72074   \n",
       "3    267daf2c-7cde-4b0d-8688-b8fa1d0bed55   \n",
       "4    67e905d8-2823-4241-b1fd-7b88e677a4a9   \n",
       "..                                    ...   \n",
       "695  bb3731f5-977b-43e8-9cc4-39c94e61c6a4   \n",
       "696  27694197-80f1-4cf4-8f9d-de4cc336f789   \n",
       "697  80f9e4ea-773d-46be-9779-6f9699b5b1d0   \n",
       "698  5bc925eb-3ebb-4081-ab1e-e7ba41937fb9   \n",
       "699  1f95a3ad-258f-4187-8791-cb1fbd12f5e2   \n",
       "\n",
       "                                                  text  human_label  \n",
       "0    Em clear ga cheppav :party_popper:nice :thumbs...            6  \n",
       "1    Paisa is sab hai ... Our system is totally cor...            5  \n",
       "2    We want justice.....the value of their lives z...            4  \n",
       "3    I lived in ahmednagar.. And i found that u nee...            2  \n",
       "4    You always covered the news really well  ,comm...            6  \n",
       "..                                                 ...          ...  \n",
       "695  I am from Indore and I don’t hesitate to accep...            2  \n",
       "696  Indian judiciary system fucked up....I persona...            1  \n",
       "697  Money is everything in India. You have money a...            3  \n",
       "698  Nothing changed in 10 years .people are being ...            2  \n",
       "699  Justice for both of them and my condolences om...            4  \n",
       "\n",
       "[700 rows x 3 columns]"
      ]
     },
     "execution_count": 5,
     "metadata": {},
     "output_type": "execute_result"
    }
   ],
   "source": [
    "df_majority_sampling = pd.read_csv('/home/sd3528/hetav-2/data/top_100_majority_human_annotate_corrected.csv')\n",
    "df_majority_sampling"
   ]
  },
  {
   "cell_type": "code",
   "execution_count": 6,
   "id": "a7853876",
   "metadata": {},
   "outputs": [
    {
     "data": {
      "text/plain": [
       "human_label\n",
       "5    133\n",
       "6    123\n",
       "1    106\n",
       "3    100\n",
       "7     98\n",
       "4     93\n",
       "2     47\n",
       "Name: count, dtype: int64"
      ]
     },
     "execution_count": 6,
     "metadata": {},
     "output_type": "execute_result"
    }
   ],
   "source": [
    "df_majority_sampling['human_label'].value_counts()"
   ]
  },
  {
   "cell_type": "code",
   "execution_count": 7,
   "id": "6eec6c60",
   "metadata": {},
   "outputs": [
    {
     "data": {
      "text/plain": [
       "label\n",
       "4    133\n",
       "5    123\n",
       "0    106\n",
       "2    100\n",
       "6     98\n",
       "3     93\n",
       "1     47\n",
       "Name: count, dtype: int64"
      ]
     },
     "execution_count": 7,
     "metadata": {},
     "output_type": "execute_result"
    }
   ],
   "source": [
    "df_majority_sampling['label'] = df_majority_sampling['human_label'].apply(lambda x: int(x) - 1)\n",
    "df_majority_sampling['label'].value_counts()"
   ]
  },
  {
   "cell_type": "code",
   "execution_count": 8,
   "id": "be8a2e7a",
   "metadata": {},
   "outputs": [
    {
     "data": {
      "text/plain": [
       "label\n",
       "5    1188\n",
       "4     848\n",
       "6     364\n",
       "0     337\n",
       "2     331\n",
       "3     234\n",
       "1     105\n",
       "Name: count, dtype: int64"
      ]
     },
     "execution_count": 8,
     "metadata": {},
     "output_type": "execute_result"
    }
   ],
   "source": [
    "df_total = pd.concat([df_annotate_first, df_majority_sampling], ignore_index=True)\n",
    "df_total['label'].value_counts()"
   ]
  },
  {
   "cell_type": "code",
   "execution_count": 10,
   "id": "7f1d2677",
   "metadata": {},
   "outputs": [],
   "source": [
    "df_test = pd.read_csv('/home/sd3528/hetav-2/data/eval_30_each.csv')"
   ]
  },
  {
   "cell_type": "code",
   "execution_count": 11,
   "id": "86ece7f2",
   "metadata": {},
   "outputs": [],
   "source": [
    "final_dataset = []\n",
    "count = 0\n",
    "test_texts = df_test['text'].tolist()\n",
    "for d in df_total.to_dict(orient='records'):\n",
    "  if d['text'] in test_texts:\n",
    "    count += 1\n",
    "  else:\n",
    "    final_dataset.append({\n",
    "      'text':d['text'],\n",
    "      'label':d['label']\n",
    "    })"
   ]
  },
  {
   "cell_type": "code",
   "execution_count": 12,
   "id": "4a64e987",
   "metadata": {},
   "outputs": [
    {
     "data": {
      "text/html": [
       "<div>\n",
       "<style scoped>\n",
       "    .dataframe tbody tr th:only-of-type {\n",
       "        vertical-align: middle;\n",
       "    }\n",
       "\n",
       "    .dataframe tbody tr th {\n",
       "        vertical-align: top;\n",
       "    }\n",
       "\n",
       "    .dataframe thead th {\n",
       "        text-align: right;\n",
       "    }\n",
       "</style>\n",
       "<table border=\"1\" class=\"dataframe\">\n",
       "  <thead>\n",
       "    <tr style=\"text-align: right;\">\n",
       "      <th></th>\n",
       "      <th>text</th>\n",
       "      <th>label</th>\n",
       "    </tr>\n",
       "  </thead>\n",
       "  <tbody>\n",
       "    <tr>\n",
       "      <th>0</th>\n",
       "      <td>:face_with_tears_of_joy::face_with_tears_of_joy:</td>\n",
       "      <td>5</td>\n",
       "    </tr>\n",
       "    <tr>\n",
       "      <th>1</th>\n",
       "      <td>His parents should be jailed for this</td>\n",
       "      <td>4</td>\n",
       "    </tr>\n",
       "    <tr>\n",
       "      <th>2</th>\n",
       "      <td>This pain is beyond imagination.. I've gone th...</td>\n",
       "      <td>4</td>\n",
       "    </tr>\n",
       "    <tr>\n",
       "      <th>3</th>\n",
       "      <td>#justicefortheemplyee</td>\n",
       "      <td>5</td>\n",
       "    </tr>\n",
       "    <tr>\n",
       "      <th>4</th>\n",
       "      <td>So sad:crying_face::crying_face:</td>\n",
       "      <td>4</td>\n",
       "    </tr>\n",
       "    <tr>\n",
       "      <th>...</th>\n",
       "      <td>...</td>\n",
       "      <td>...</td>\n",
       "    </tr>\n",
       "    <tr>\n",
       "      <th>3238</th>\n",
       "      <td>I am from Indore and I don’t hesitate to accep...</td>\n",
       "      <td>1</td>\n",
       "    </tr>\n",
       "    <tr>\n",
       "      <th>3239</th>\n",
       "      <td>Indian judiciary system fucked up....I persona...</td>\n",
       "      <td>0</td>\n",
       "    </tr>\n",
       "    <tr>\n",
       "      <th>3240</th>\n",
       "      <td>Money is everything in India. You have money a...</td>\n",
       "      <td>2</td>\n",
       "    </tr>\n",
       "    <tr>\n",
       "      <th>3241</th>\n",
       "      <td>Nothing changed in 10 years .people are being ...</td>\n",
       "      <td>1</td>\n",
       "    </tr>\n",
       "    <tr>\n",
       "      <th>3242</th>\n",
       "      <td>Justice for both of them and my condolences om...</td>\n",
       "      <td>3</td>\n",
       "    </tr>\n",
       "  </tbody>\n",
       "</table>\n",
       "<p>3243 rows × 2 columns</p>\n",
       "</div>"
      ],
      "text/plain": [
       "                                                   text  label\n",
       "0      :face_with_tears_of_joy::face_with_tears_of_joy:      5\n",
       "1                 His parents should be jailed for this      4\n",
       "2     This pain is beyond imagination.. I've gone th...      4\n",
       "3                                 #justicefortheemplyee      5\n",
       "4                      So sad:crying_face::crying_face:      4\n",
       "...                                                 ...    ...\n",
       "3238  I am from Indore and I don’t hesitate to accep...      1\n",
       "3239  Indian judiciary system fucked up....I persona...      0\n",
       "3240  Money is everything in India. You have money a...      2\n",
       "3241  Nothing changed in 10 years .people are being ...      1\n",
       "3242  Justice for both of them and my condolences om...      3\n",
       "\n",
       "[3243 rows x 2 columns]"
      ]
     },
     "execution_count": 12,
     "metadata": {},
     "output_type": "execute_result"
    }
   ],
   "source": [
    "final_dataset = pd.DataFrame(final_dataset)\n",
    "final_dataset"
   ]
  },
  {
   "cell_type": "code",
   "execution_count": 13,
   "id": "fd8a9242",
   "metadata": {},
   "outputs": [],
   "source": [
    "final_dataset = final_dataset.sample(frac=1, random_state=0).reset_index(drop=True)"
   ]
  },
  {
   "cell_type": "code",
   "execution_count": 14,
   "id": "7c7c0505",
   "metadata": {},
   "outputs": [],
   "source": [
    "df_original_train = final_dataset[:round(len(final_dataset)*0.8)]\n",
    "df_original_train = df_original_train.sample(frac=1, random_state=0).reset_index(drop=True)\n",
    "df_original_train.to_csv('/home/sd3528/hetav-2/data/certainty/train.csv', index=False)\n",
    "df_original_test = final_dataset[round(len(final_dataset)*0.8):]\n",
    "df_original_test = df_original_test.sample(frac=1, random_state=0).reset_index(drop=True)\n",
    "df_original_test.to_csv('/home/sd3528/hetav-2/data/certainty/test.csv', index=False)"
   ]
  },
  {
   "cell_type": "code",
   "execution_count": null,
   "id": "fa52934b",
   "metadata": {},
   "outputs": [],
   "source": []
  }
 ],
 "metadata": {
  "kernelspec": {
   "display_name": "tts",
   "language": "python",
   "name": "python3"
  },
  "language_info": {
   "codemirror_mode": {
    "name": "ipython",
    "version": 3
   },
   "file_extension": ".py",
   "mimetype": "text/x-python",
   "name": "python",
   "nbconvert_exporter": "python",
   "pygments_lexer": "ipython3",
   "version": "3.11.9"
  }
 },
 "nbformat": 4,
 "nbformat_minor": 5
}
