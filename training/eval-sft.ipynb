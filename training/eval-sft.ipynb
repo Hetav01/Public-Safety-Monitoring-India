{
 "cells": [
  {
   "cell_type": "code",
   "execution_count": 5,
   "id": "1cdea957",
   "metadata": {},
   "outputs": [],
   "source": [
    "import os\n",
    "import pandas as pd\n",
    "import torch\n",
    "from tqdm import tqdm\n",
    "from transformers import AutoTokenizer, AutoModelForCausalLM, pipeline\n",
    "from sklearn.metrics import accuracy_score, classification_report, confusion_matrix\n",
    "\n",
    "# Constants\n",
    "\n"
   ]
  },
  {
   "cell_type": "code",
   "execution_count": 6,
   "id": "6837aacf",
   "metadata": {},
   "outputs": [],
   "source": [
    "MODEL_DIR = \"/home/sd3528/hetav-2/experiments/llama3-8b-qlora-prompt-minority-sampling\"  # Path to fine-tuned model\n",
    "TEST_CSV = \"/home/sd3528/hetav-2/data/eval_30_each.csv\""
   ]
  },
  {
   "cell_type": "code",
   "execution_count": 12,
   "id": "f9f5d8ec",
   "metadata": {},
   "outputs": [],
   "source": [
    "def apply_label_mapping(_label, labels):\n",
    "    \"\"\"\n",
    "    Apply label mapping to convert string labels to integer labels.\n",
    "    \"\"\"\n",
    "    if _label in labels:\n",
    "        return labels[int(_label)]\n",
    "    else:\n",
    "        raise ValueError(f\"Label '{_label}' not found in the mapping.\")"
   ]
  },
  {
   "cell_type": "code",
   "execution_count": 13,
   "id": "c3f665f7",
   "metadata": {},
   "outputs": [
    {
     "name": "stderr",
     "output_type": "stream",
     "text": [
      "Loading checkpoint shards: 100%|██████████| 4/4 [00:02<00:00,  1.44it/s]\n"
     ]
    }
   ],
   "source": [
    "\n",
    "# Label categories (should match training)\n",
    "labels = [    \n",
    "    \"Judicial Accountability and Policy Demands\",            \n",
    "    \"Public Safety\",                                         \n",
    "    \"Socioeconomic Privilege\",                               \n",
    "    \"Victim Sympathy\",                                       \n",
    "    \"Anger or Outrage\",                                      \n",
    "    \"Irrelevant/General Comments\",                           \n",
    "    \"Views on Similar Cases in the Past\"                     \n",
    "]\n",
    "\n",
    "# Load tokenizer and model\n",
    "tokenizer = AutoTokenizer.from_pretrained(MODEL_DIR, trust_remote_code=True)\n",
    "model = AutoModelForCausalLM.from_pretrained(MODEL_DIR, device_map=\"auto\", torch_dtype=torch.float16)\n",
    "\n"
   ]
  },
  {
   "cell_type": "code",
   "execution_count": 15,
   "id": "4985c058",
   "metadata": {},
   "outputs": [
    {
     "name": "stderr",
     "output_type": "stream",
     "text": [
      "Device set to use cuda:0\n",
      "Generating predictions:   0%|          | 0/210 [00:00<?, ?it/s]"
     ]
    },
    {
     "name": "stderr",
     "output_type": "stream",
     "text": [
      "/home/sd3528/anaconda3/envs/tts/lib/python3.11/site-packages/transformers/generation/configuration_utils.py:631: UserWarning: `do_sample` is set to `False`. However, `temperature` is set to `0.6` -- this flag is only used in sample-based generation modes. You should set `do_sample=True` or unset `temperature`.\n",
      "  warnings.warn(\n",
      "/home/sd3528/anaconda3/envs/tts/lib/python3.11/site-packages/transformers/generation/configuration_utils.py:636: UserWarning: `do_sample` is set to `False`. However, `top_p` is set to `0.9` -- this flag is only used in sample-based generation modes. You should set `do_sample=True` or unset `top_p`.\n",
      "  warnings.warn(\n",
      "Generating predictions: 100%|██████████| 210/210 [02:45<00:00,  1.27it/s]\n"
     ]
    }
   ],
   "source": [
    "# Load test data\n",
    "df = pd.read_csv(TEST_CSV)\n",
    "df.columns = df.columns.str.strip()\n",
    "df[\"text\"] = df[\"text\"].fillna(\"\").astype(str)\n",
    "# df[\"Topic_Label\"] = df[\"human_label\"].apply(lambda x: apply_label_mapping(x, {label: i for i, label in enumerate(labels)}))\n",
    "df[\"Topic_Label\"] =  df['Label_Topic']\n",
    "\n",
    "# Prompt builder\n",
    "def make_prompt(text):\n",
    "    return f\"\"\"\n",
    "### Instruction:\n",
    "Classify the comment into {', '.join(labels)}\n",
    "Return the answer as the corresponding label.\n",
    "\n",
    "### Text: {text}\n",
    "### Answer:\"\"\".strip()\n",
    "\n",
    "df[\"prompt\"] = df[\"text\"].apply(make_prompt)\n",
    "\n",
    "# Inference\n",
    "device = \"cuda\" if torch.cuda.is_available() else \"cpu\"\n",
    "pipe = pipeline(\"text-generation\", model=model, tokenizer=tokenizer)#, device=0 if device == \"cuda\" else -1)\n",
    "\n",
    "preds = []\n",
    "for prompt in tqdm(df[\"prompt\"].tolist(), desc=\"Generating predictions\"):\n",
    "    output = pipe(prompt, max_new_tokens=20, do_sample=False)[0][\"generated_text\"]\n",
    "    answer = output.split(\"### Answer:\")[-1].strip().split(\"\\n\")[0]\n",
    "    preds.append(answer.lower())\n"
   ]
  },
  {
   "cell_type": "code",
   "execution_count": 17,
   "id": "871b8d0f",
   "metadata": {},
   "outputs": [
    {
     "name": "stdout",
     "output_type": "stream",
     "text": [
      "['judicial accountability and policy demands', 'judicial accountability and policy demands', 'judicial accountability and policy demands', 'victim sympathy', 'judicial accountability and policy demands', 'judicial accountability and policy demands', 'judicial accountability and policy demands', 'judicial accountability and policy demands :clown_face::nerd_face:', 'judicial accountability and policy demands', 'judicial', 'judicial accountability and policy demands', 'anger or outrage', 'public safety', 'judicial accountability and policy demands', 'judicial accountability and policy demands', 'judicial accountability and policy demands', 'judicial accountability and policy demands', 'judicial accountability and policy demands', 'judicial accountability and policy demands', 'judicial accountability and policy demands', 'judicial', 'judicial accountability and policy demands', 'judicial accountability and policy demands', 'judicial accountability and policy demands', 'judicial accountability and policy demands', 'judicial accountability and policy demands', 'judicial accountability and policy demands', 'judicial accountability and policy demands', 'judicial accountability and policy demands', 'judicial accountability and policy demands', 'socioeconomic privilege', 'judicial accountability and policy demands', 'anger or outrage', 'judicial accountability and policy demands', 'public safety', 'irrelevant/general comments', 'public safety', 'judicial accountability and policy demands', '0', 'irrelevant/general comments', 'socioeconomic privilege', 'irrelevant/general comments', 'anger or outrage', '0', 'socioeconomic privilege', 'victim sympathy', 'judicial accountability and policy demands', 'judicial accountability and policy demands', 'public safety', 'irrelevant/general comments', 'judicial accountability and policy demands', 'judicial accountability and policy demands', '0', 'judicial accountability and policy demands', 'judicial accountability and policy demands', 'socioeconomic privilege', 'victim sympathy', 'judicial accountability and policy demands', 'policy demands', 'irrelevant/general comments', 'victim sympathy', 'judicial accountability and policy demands', 'socioeconomic privilege', 'victim sympathy', 'judicial accountability and policy demands', 'socioeconomic privilege', 'judicial accountability and policy demands', 'socioeconomic privilege', 'judicial accountability and policy demands', 'socioeconomic privilege', 'socioeconomic privilege', 'socioeconomic privilege', 'judicial accountability and policy demands', 'socioeconomic privilege', 'socioeconomic privilege', 'socioeconomic privilege', 'socioeconomic privilege', 'socioeconomic privilege', 'socioeconomic privilege', 'judicial accountability and policy demands', 'socioeconomic privilege', 'judicial accountability and policy demands', '0', 'socioeconomic privilege', 'socioeconomic privilege', 'judicial accountability and policy demands', 'judicial accountability and policy demands', 'judicial accountability and policy demands', 'judicial accountability', 'judicial accountability and policy demands', 'judicial accountability and policy demands', 'victim sympathy', 'victim sympathy', 'judicial accountability and policy demands', 'anger or outrage', 'judicial accountability and policy demands', 'judicial accountability and policy demands', 'judicial accountability and policy demands', 'victim sympathy', 'judicial accountability and policy demands', 'judicial accountability and policy demands', 'judicial accountability and policy demands', 'judicial accountability and policy demands', 'victim sympathy', 'victim sympathy', 'victim sympathy', 'victim sympathy', 'judicial accountability and policy demands', 'judicial accountability and policy demands', 'victim sympathy', 'victim sympathy', 'victim sympathy', 'victim', '1', 'judicial accountability and', 'judicial accountability and policy demands', 'socioeconomic privilege', 'victim sympathy', 'judicial accountability and policy demands', 'victim sympathy', 'victim sympathy', 'judicial accountability and policy demands', 'judicial accountability', 'judicial accountability and policy demands', 'victim sympathy', 'judicial accountability and policy demands', 'judicial accountability and policy demands', 'socioeconomic privilege', 'victim sympathy', 'judicial accountability and policy demands', 'socioeconomic privilege', 'judicial accountability and policy demands', '', 'judicial accountability and policy demands', 'judicial accountability and policy demands', '1. judicial accountability and policy demands, 2. socioeconomic privilege', 'victim sympathy', 'socioeconomic privilege', 'anger or outrage', '0', 'judicial accountability and policy demands', 'judicial accountability and policy demands', 'anger or outrage', 'anger or outrage', 'judicial accountability and policy demands', 'socioeconomic privilege', 'judicial accountability and policy demands', 'victim sympathy', 'judicial accountability and policy demands', '', 'victim sympathy', 'victim sympathy', 'judicial accountability and policy demands', 'anger or outrage', 'judicial accountability and policy demands', 'socioeconomic privilege', 'victim sympathy', 'judicial accountability and policy demands', 'irrelevant/general comments', 'judicial accountability and policy demands', 'judicial accountability and policy demands', 'judicial accountability and policy demands', '0', 'judicial accountability and policy demands', 'judicial accountability and policy demands', 'irrelevant/general comments', '0', 'irrelevant/general comments', 'judicial accountability and policy demands', 'judicial accountability and policy demands', ':red_heart::crying_face::crying_face::red_heart:', 'victim sympathy', 'judicial accountability and policy demands', 'victim sympathy', 'judicial accountability and policy demands', 'judicial accountability and policy demands', 'judicial accountability and policy demands', '', 'judicial accountability and policy demands', 'judicial accountability and policy demands', 'victim sympathy', 'judicial accountability and policy demands', 'socioeconomic privilege', 'judicial accountability and policy demands', 'victim sympathy', 'judicial accountability and policy demands', 'victim sympathy', 'victim sympathy', 'judicial accountability and policy demands', 'victim sympathy', 'irrelevant/general comments', 'victim sympathy', 'irrelevant/general comments', 'victim sympathy', 'judicial accountability and policy demands', 'victim sympathy', 'judicial accountability and policy demands', 'judicial accountability and policy demands', 'policy demands', 'victim sympathy', 'judicial accountability and policy demands', 'socioeconomic privilege', 'judicial accountability and policy demands', 'irrelevant/general comments', 'judicial accountability and policy demands', 'victim sympathy', 'victim sympathy', 'irrelevant/general comments', 'socioeconomic privilege', 'judicial accountability and policy demands']\n"
     ]
    }
   ],
   "source": [
    "print(preds)"
   ]
  },
  {
   "cell_type": "code",
   "execution_count": 16,
   "id": "f8b060cb",
   "metadata": {},
   "outputs": [
    {
     "name": "stdout",
     "output_type": "stream",
     "text": [
      "\n",
      "Accuracy: 0.0\n",
      "\n",
      "Classification Report:\n",
      "                                                                            precision    recall  f1-score   support\n",
      "\n",
      "                                                                                0.00      0.00      0.00       0.0\n",
      "                                                                        0       0.00      0.00      0.00       0.0\n",
      "                                                                        1       0.00      0.00      0.00       0.0\n",
      "1. judicial accountability and policy demands, 2. socioeconomic privilege       0.00      0.00      0.00       0.0\n",
      "                         :red_heart::crying_face::crying_face::red_heart:       0.00      0.00      0.00       0.0\n",
      "                                                         Anger or Outrage       0.00      0.00      0.00      21.0\n",
      "                                              Irrelevant/General Comments       0.00      0.00      0.00      25.0\n",
      "                               Judicial Accountability and Policy Demands       0.00      0.00      0.00      22.0\n",
      "                                                            Public Safety       0.00      0.00      0.00      12.0\n",
      "                                                  Socioeconomic Privilege       0.00      0.00      0.00      17.0\n",
      "                                                          Victim Sympathy       0.00      0.00      0.00      13.0\n",
      "                                       Views on Similar Cases in the Past       0.00      0.00      0.00      20.0\n",
      "                                                         anger or outrage       0.00      0.00      0.00       0.0\n",
      "                                              irrelevant/general comments       0.00      0.00      0.00       0.0\n",
      "                                                                 judicial       0.00      0.00      0.00       0.0\n",
      "                                                  judicial accountability       0.00      0.00      0.00       0.0\n",
      "                                              judicial accountability and       0.00      0.00      0.00       0.0\n",
      "                               judicial accountability and policy demands       0.00      0.00      0.00       0.0\n",
      "       judicial accountability and policy demands :clown_face::nerd_face:       0.00      0.00      0.00       0.0\n",
      "                                                                      nan       0.00      0.00      0.00      80.0\n",
      "                                                           policy demands       0.00      0.00      0.00       0.0\n",
      "                                                            public safety       0.00      0.00      0.00       0.0\n",
      "                                                  socioeconomic privilege       0.00      0.00      0.00       0.0\n",
      "                                                                   victim       0.00      0.00      0.00       0.0\n",
      "                                                          victim sympathy       0.00      0.00      0.00       0.0\n",
      "\n",
      "                                                                 accuracy                           0.00     210.0\n",
      "                                                                macro avg       0.00      0.00      0.00     210.0\n",
      "                                                             weighted avg       0.00      0.00      0.00     210.0\n",
      "\n",
      "\n",
      "Confusion Matrix:\n",
      " [[ 0  0  0  0  0  0  0  0  0  0  0  0  0  0  0  0  0  0  0  0  0  0  0  0\n",
      "   0]\n",
      " [ 0  0  0  0  0  0  0  0  0  0  0  0  0  0  0  0  0  0  0  0  0  0  0  0\n",
      "   0]\n",
      " [ 0  0  0  0  0  0  0  0  0  0  0  0  0  0  0  0  0  0  0  0  0  0  0  0\n",
      "   0]\n",
      " [ 0  0  0  0  0  0  0  0  0  0  0  0  0  0  0  0  0  0  0  0  0  0  0  0\n",
      "   0]\n",
      " [ 0  0  0  0  0  0  0  0  0  0  0  0  0  0  0  0  0  0  0  0  0  0  0  0\n",
      "   0]\n",
      " [ 0  1  0  1  0  0  0  0  0  0  0  0  3  0  0  1  0  8  0  0  0  0  3  0\n",
      "   4]\n",
      " [ 1  2  0  0  1  0  0  0  0  0  0  0  1  3  0  0  0 13  0  0  0  0  1  0\n",
      "   3]\n",
      " [ 0  0  0  0  0  0  0  0  0  0  0  0  1  0  1  0  0 20  0  0  0  0  0  0\n",
      "   0]\n",
      " [ 0  0  0  0  0  0  0  0  0  0  0  0  0  2  0  0  0  6  0  0  0  1  2  0\n",
      "   1]\n",
      " [ 0  0  0  0  0  0  0  0  0  0  0  0  0  0  0  1  0  8  0  0  0  0  7  0\n",
      "   1]\n",
      " [ 0  0  0  0  0  0  0  0  0  0  0  0  0  0  0  0  1  6  0  0  0  0  1  0\n",
      "   5]\n",
      " [ 0  0  0  0  0  0  0  0  0  0  0  0  0  3  0  0  0  9  0  0  0  0  3  0\n",
      "   5]\n",
      " [ 0  0  0  0  0  0  0  0  0  0  0  0  0  0  0  0  0  0  0  0  0  0  0  0\n",
      "   0]\n",
      " [ 0  0  0  0  0  0  0  0  0  0  0  0  0  0  0  0  0  0  0  0  0  0  0  0\n",
      "   0]\n",
      " [ 0  0  0  0  0  0  0  0  0  0  0  0  0  0  0  0  0  0  0  0  0  0  0  0\n",
      "   0]\n",
      " [ 0  0  0  0  0  0  0  0  0  0  0  0  0  0  0  0  0  0  0  0  0  0  0  0\n",
      "   0]\n",
      " [ 0  0  0  0  0  0  0  0  0  0  0  0  0  0  0  0  0  0  0  0  0  0  0  0\n",
      "   0]\n",
      " [ 0  0  0  0  0  0  0  0  0  0  0  0  0  0  0  0  0  0  0  0  0  0  0  0\n",
      "   0]\n",
      " [ 0  0  0  0  0  0  0  0  0  0  0  0  0  0  0  0  0  0  0  0  0  0  0  0\n",
      "   0]\n",
      " [ 2  4  1  0  0  0  0  0  0  0  0  0  3  4  1  0  0 28  1  0  2  3 11  1\n",
      "  19]\n",
      " [ 0  0  0  0  0  0  0  0  0  0  0  0  0  0  0  0  0  0  0  0  0  0  0  0\n",
      "   0]\n",
      " [ 0  0  0  0  0  0  0  0  0  0  0  0  0  0  0  0  0  0  0  0  0  0  0  0\n",
      "   0]\n",
      " [ 0  0  0  0  0  0  0  0  0  0  0  0  0  0  0  0  0  0  0  0  0  0  0  0\n",
      "   0]\n",
      " [ 0  0  0  0  0  0  0  0  0  0  0  0  0  0  0  0  0  0  0  0  0  0  0  0\n",
      "   0]\n",
      " [ 0  0  0  0  0  0  0  0  0  0  0  0  0  0  0  0  0  0  0  0  0  0  0  0\n",
      "   0]]\n"
     ]
    }
   ],
   "source": [
    "\n",
    "# Evaluation\n",
    "true_labels = df[\"Label_Topic\"].tolist()\n",
    "\n",
    "print(\"\\nAccuracy:\", accuracy_score(true_labels, preds))\n",
    "print(\"\\nClassification Report:\\n\", classification_report(true_labels, preds, zero_division=0))\n",
    "print(\"\\nConfusion Matrix:\\n\", confusion_matrix(true_labels, preds))"
   ]
  },
  {
   "cell_type": "code",
   "execution_count": null,
   "id": "1b39c071",
   "metadata": {},
   "outputs": [],
   "source": []
  }
 ],
 "metadata": {
  "kernelspec": {
   "display_name": "tts",
   "language": "python",
   "name": "python3"
  },
  "language_info": {
   "codemirror_mode": {
    "name": "ipython",
    "version": 3
   },
   "file_extension": ".py",
   "mimetype": "text/x-python",
   "name": "python",
   "nbconvert_exporter": "python",
   "pygments_lexer": "ipython3",
   "version": "3.11.9"
  }
 },
 "nbformat": 4,
 "nbformat_minor": 5
}
